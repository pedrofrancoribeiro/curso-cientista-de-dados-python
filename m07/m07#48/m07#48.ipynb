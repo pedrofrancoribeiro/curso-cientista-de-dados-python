{
 "cells": [
  {
   "cell_type": "code",
   "execution_count": 1,
   "id": "0c405bb8-8a0d-4e66-9c34-a196f5c844a0",
   "metadata": {
    "tags": []
   },
   "outputs": [
    {
     "name": "stdout",
     "output_type": "stream",
     "text": [
      "Aprovado\n",
      "Parabéns\n"
     ]
    }
   ],
   "source": [
    "nota = 7\n",
    "if nota >= 7:\n",
    "    print(\"Aprovado\")\n",
    "    print(\"Parabéns\")\n",
    "else:\n",
    "    print(\"Reprovado\")"
   ]
  },
  {
   "cell_type": "code",
   "execution_count": 2,
   "id": "10ca981b-4987-46a0-9b50-946362becd9a",
   "metadata": {
    "tags": []
   },
   "outputs": [
    {
     "name": "stdout",
     "output_type": "stream",
     "text": [
      "Reprovado\n"
     ]
    }
   ],
   "source": [
    "nota = 5\n",
    "if nota >= 7:\n",
    "    print(\"Aprovado\")\n",
    "    print(\"Parabéns\")\n",
    "else:\n",
    "    print(\"Reprovado\")"
   ]
  },
  {
   "cell_type": "code",
   "execution_count": 5,
   "id": "091de706-15ff-4988-ad3b-b27df9922ddb",
   "metadata": {
    "tags": []
   },
   "outputs": [
    {
     "name": "stdout",
     "output_type": "stream",
     "text": [
      "Recuperação\n"
     ]
    }
   ],
   "source": [
    "#testar com 4, 5 e 7\n",
    "nota = 5\n",
    "if nota <= 4:\n",
    "    print(\"Reprovado\")\n",
    "elif nota > 4 and nota <=6:\n",
    "    print(\"Recuperação\")\n",
    "else:\n",
    "    print(\"Aprovado\")"
   ]
  },
  {
   "cell_type": "code",
   "execution_count": null,
   "id": "4125c8ac-094a-4207-9655-407ce194ea9b",
   "metadata": {},
   "outputs": [],
   "source": []
  }
 ],
 "metadata": {
  "kernelspec": {
   "display_name": "Python 3 (ipykernel)",
   "language": "python",
   "name": "python3"
  },
  "language_info": {
   "codemirror_mode": {
    "name": "ipython",
    "version": 3
   },
   "file_extension": ".py",
   "mimetype": "text/x-python",
   "name": "python",
   "nbconvert_exporter": "python",
   "pygments_lexer": "ipython3",
   "version": "3.11.5"
  }
 },
 "nbformat": 4,
 "nbformat_minor": 5
}
