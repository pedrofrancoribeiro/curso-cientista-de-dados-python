{
 "cells": [
  {
   "cell_type": "code",
   "execution_count": 1,
   "id": "c2494dd5-60af-447a-a5b9-7d57e4229a21",
   "metadata": {
    "tags": []
   },
   "outputs": [
    {
     "name": "stdout",
     "output_type": "stream",
     "text": [
      "[1, 2, 3, 4, 5]\n"
     ]
    }
   ],
   "source": [
    "#formas de criar listas\n",
    "lst = [1, 2, 3, 4, 5]\n",
    "print(lst)"
   ]
  },
  {
   "cell_type": "code",
   "execution_count": 2,
   "id": "90fad62c-798c-4fcf-92ac-3b693bd49b07",
   "metadata": {
    "tags": []
   },
   "outputs": [
    {
     "name": "stdout",
     "output_type": "stream",
     "text": [
      "[1, 2, 3.5, 'quatro', True]\n"
     ]
    }
   ],
   "source": [
    "#vários tipos\n",
    "lst2 = [1, 2, 3.5, \"quatro\", True]\n",
    "print(lst2)"
   ]
  },
  {
   "cell_type": "code",
   "execution_count": 3,
   "id": "75e4e8d5-15ac-4ab6-847d-0145bc06596c",
   "metadata": {
    "tags": []
   },
   "outputs": [
    {
     "name": "stdout",
     "output_type": "stream",
     "text": [
      "[12, [1, 2, 3, 4, 5], 'a']\n"
     ]
    }
   ],
   "source": [
    "#lista com lista\n",
    "lst3 = [12, [1,2,3,4,5],\"a\"]\n",
    "print(lst3)"
   ]
  },
  {
   "cell_type": "code",
   "execution_count": 4,
   "id": "ee93bb97-65a7-422e-8125-2dfe387f22a9",
   "metadata": {
    "tags": []
   },
   "outputs": [
    {
     "name": "stdout",
     "output_type": "stream",
     "text": [
      "[0, 1, 2, 3, 4, 5, 6, 7, 8, 9]\n"
     ]
    }
   ],
   "source": [
    "#criando lista com range\n",
    "lst4 = list(range(0,10))\n",
    "print(lst4)"
   ]
  },
  {
   "cell_type": "code",
   "execution_count": 5,
   "id": "574a6d4b-d2d0-4731-aef0-0db4bf9c3a0a",
   "metadata": {
    "tags": []
   },
   "outputs": [
    {
     "name": "stdout",
     "output_type": "stream",
     "text": [
      "5\n"
     ]
    }
   ],
   "source": [
    "#comprimento da lista\n",
    "print(len(lst))"
   ]
  },
  {
   "cell_type": "code",
   "execution_count": 6,
   "id": "d31e7a8b-f7f4-4edb-b96e-c5e4da2ce770",
   "metadata": {
    "tags": []
   },
   "outputs": [
    {
     "name": "stdout",
     "output_type": "stream",
     "text": [
      "1\n",
      "[1, 2, 3, 4, 5]\n",
      "[4, 2, 3, 4, 5]\n"
     ]
    }
   ],
   "source": [
    "#acessando elemento\n",
    "print(lst[0])\n",
    "#posição 1 é uma lista\n",
    "print(lst3[1]) # não é o primeiro elemento da lista, o primeiro elemento da lista tem índice zero\n",
    "#alterando posição\n",
    "lst[0] = 4\n",
    "print(lst)"
   ]
  },
  {
   "cell_type": "code",
   "execution_count": 7,
   "id": "187f22ab-2f47-46a4-97af-579bac82b34d",
   "metadata": {
    "tags": []
   },
   "outputs": [
    {
     "name": "stdout",
     "output_type": "stream",
     "text": [
      "1\n",
      "2\n",
      "3\n",
      "4\n",
      "5\n",
      "6\n",
      "7\n",
      "8\n",
      "9\n",
      "10\n"
     ]
    }
   ],
   "source": [
    "#percorrendo lista\n",
    "for n in range(0, len(lst4)): # vai de zero até o comprimento de lst4\n",
    "    print(lst4[n]+1)"
   ]
  },
  {
   "cell_type": "code",
   "execution_count": null,
   "id": "0c25c88d-442f-43b3-8178-b8cfab9d1f41",
   "metadata": {},
   "outputs": [],
   "source": []
  }
 ],
 "metadata": {
  "kernelspec": {
   "display_name": "Python 3 (ipykernel)",
   "language": "python",
   "name": "python3"
  },
  "language_info": {
   "codemirror_mode": {
    "name": "ipython",
    "version": 3
   },
   "file_extension": ".py",
   "mimetype": "text/x-python",
   "name": "python",
   "nbconvert_exporter": "python",
   "pygments_lexer": "ipython3",
   "version": "3.11.5"
  }
 },
 "nbformat": 4,
 "nbformat_minor": 5
}
