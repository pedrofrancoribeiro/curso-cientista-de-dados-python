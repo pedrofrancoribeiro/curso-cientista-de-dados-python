{
 "cells": [
  {
   "cell_type": "code",
   "execution_count": 1,
   "id": "ed1c041e-905b-4dbd-bcad-e8e86cd44253",
   "metadata": {
    "tags": []
   },
   "outputs": [
    {
     "name": "stdout",
     "output_type": "stream",
     "text": [
      "200\n",
      "Maior valor:  45\n",
      "Menor valor:  1\n",
      "Soma:  108\n",
      "Arredondamento:  2.35\n"
     ]
    }
   ],
   "source": [
    "#funções internas\n",
    "print(abs(-200))\n",
    "lst = [1,2,30,30,45]\n",
    "print(\"Maior valor: \", max(lst))\n",
    "print(\"Menor valor: \", min(lst))\n",
    "print(\"Soma: \", sum(lst))\n",
    "print(\"Arredondamento: \", round(2.34567,2))"
   ]
  },
  {
   "cell_type": "code",
   "execution_count": 2,
   "id": "9fb6ac73-3633-4491-8277-b408d13e0b92",
   "metadata": {
    "tags": []
   },
   "outputs": [
    {
     "name": "stdout",
     "output_type": "stream",
     "text": [
      "Média:  21.6\n",
      "Mediana:  30\n",
      "Moda:  30\n"
     ]
    }
   ],
   "source": [
    "#statistica\n",
    "from statistics import *\n",
    "print(\"Média: \", mean(lst))\n",
    "print(\"Mediana: \", median(lst))\n",
    "print(\"Moda: \", mode(lst))"
   ]
  },
  {
   "cell_type": "code",
   "execution_count": 3,
   "id": "95360e4c-7990-4092-a8c1-40ca2bcfcee9",
   "metadata": {
    "tags": []
   },
   "outputs": [
    {
     "name": "stdout",
     "output_type": "stream",
     "text": [
      "Desvio padrão:  19.346834366376324\n"
     ]
    }
   ],
   "source": [
    "#desvio padrão da amostra\n",
    "print(\"Desvio padrão: \", stdev(lst))"
   ]
  },
  {
   "cell_type": "code",
   "execution_count": 4,
   "id": "f5d453c7-4a3a-40b3-8a4c-3c5b9a613b03",
   "metadata": {
    "tags": []
   },
   "outputs": [
    {
     "name": "stdout",
     "output_type": "stream",
     "text": [
      "Variância:  374.3\n"
     ]
    }
   ],
   "source": [
    "#variancia da amostra\n",
    "print(\"Variância: \", variance(lst))"
   ]
  },
  {
   "cell_type": "code",
   "execution_count": 5,
   "id": "12f9b729-3f8f-4722-85ca-762546db5f6e",
   "metadata": {
    "tags": []
   },
   "outputs": [
    {
     "name": "stdout",
     "output_type": "stream",
     "text": [
      "<class 'numpy.ndarray'>\n",
      "[[0.83439819 0.24503981 0.20905542 0.26294314 0.78007697 0.96949985\n",
      "  0.15466338 0.01016418]\n",
      " [0.3645486  0.39545527 0.39069004 0.85613373 0.31388352 0.22665994\n",
      "  0.28542656 0.05265405]\n",
      " [0.60589603 0.44547217 0.12568063 0.83566986 0.47581987 0.6151485\n",
      "  0.6574748  0.26306696]\n",
      " [0.64010756 0.19664756 0.30151873 0.5017528  0.20743329 0.29212593\n",
      "  0.16386478 0.51485311]\n",
      " [0.71302784 0.87079315 0.32068445 0.84752039 0.82144649 0.15453284\n",
      "  0.70090953 0.83784439]\n",
      " [0.32528475 0.85082425 0.50683588 0.25215893 0.37177714 0.75892342\n",
      "  0.81105031 0.96620643]\n",
      " [0.26562415 0.56639189 0.7926642  0.41370296 0.44084245 0.50796248\n",
      "  0.23721782 0.88888202]\n",
      " [0.63599762 0.86239729 0.4322071  0.52975783 0.17397818 0.8385186\n",
      "  0.37763558 0.9274274 ]]\n"
     ]
    }
   ],
   "source": [
    "from numpy import *\n",
    "a = random.random((8,8))\n",
    "print(type(a))\n",
    "print(a)"
   ]
  },
  {
   "cell_type": "code",
   "execution_count": null,
   "id": "965fa35f-555d-4a66-bcc6-ae8fdb4556d8",
   "metadata": {},
   "outputs": [],
   "source": []
  }
 ],
 "metadata": {
  "kernelspec": {
   "display_name": "Python 3 (ipykernel)",
   "language": "python",
   "name": "python3"
  },
  "language_info": {
   "codemirror_mode": {
    "name": "ipython",
    "version": 3
   },
   "file_extension": ".py",
   "mimetype": "text/x-python",
   "name": "python",
   "nbconvert_exporter": "python",
   "pygments_lexer": "ipython3",
   "version": "3.11.5"
  }
 },
 "nbformat": 4,
 "nbformat_minor": 5
}
