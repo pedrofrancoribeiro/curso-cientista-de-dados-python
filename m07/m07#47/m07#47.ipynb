{
 "cells": [
  {
   "cell_type": "code",
   "execution_count": 3,
   "id": "994a290f-5bb0-44b6-b347-9085e88703fc",
   "metadata": {
    "tags": []
   },
   "outputs": [
    {
     "name": "stdout",
     "output_type": "stream",
     "text": [
      "1\n",
      "3.14\n",
      "Python\n",
      "False\n"
     ]
    }
   ],
   "source": [
    "#cria variável do tipo inteiro\n",
    "x = 1\n",
    "print(x)\n",
    "#cria variável do tipo float\n",
    "y = 3.14\n",
    "print(y)\n",
    "#cria variável do tipo string\n",
    "m = \"Python\"\n",
    "m = 'Python'\n",
    "print(m)\n",
    "#cria variável do tipo lógica\n",
    "w = True\n",
    "y = False\n",
    "print(y)"
   ]
  },
  {
   "cell_type": "code",
   "execution_count": 4,
   "id": "ae02fa94-e28b-427b-8726-5b08fb4246d1",
   "metadata": {
    "tags": []
   },
   "outputs": [
    {
     "name": "stdout",
     "output_type": "stream",
     "text": [
      "30.0\n"
     ]
    }
   ],
   "source": [
    "#calculadora\n",
    "x = 10\n",
    "y = 20\n",
    "z = 100\n",
    "w = (x + y) * z / 100\n",
    "print(w)"
   ]
  },
  {
   "cell_type": "code",
   "execution_count": 5,
   "id": "0e885ef6-80b4-4423-a6c8-8569db38ba39",
   "metadata": {
    "tags": []
   },
   "outputs": [
    {
     "name": "stdout",
     "output_type": "stream",
     "text": [
      "Este texto será impresso no console\n",
      "10\n",
      "Texto e duas variáveis:  10 ,  100\n"
     ]
    }
   ],
   "source": [
    "#exibir texto no console\n",
    "print(\"Este texto será impresso no console\")\n",
    "print(x)\n",
    "print(\"Texto e duas variáveis: \", x,\", \",z)"
   ]
  },
  {
   "cell_type": "code",
   "execution_count": 6,
   "id": "8acbaba4-cd4b-4910-9152-3bf6391b44d4",
   "metadata": {
    "tags": []
   },
   "outputs": [
    {
     "name": "stdout",
     "output_type": "stream",
     "text": [
      "<class 'int'>\n",
      "<class 'str'>\n"
     ]
    }
   ],
   "source": [
    "#verificar tipo\n",
    "print(type(x))\n",
    "print(type(m))"
   ]
  },
  {
   "cell_type": "code",
   "execution_count": 7,
   "id": "736383a1-fcb7-4a12-a04c-396efdd25265",
   "metadata": {
    "tags": []
   },
   "outputs": [
    {
     "name": "stdout",
     "output_type": "stream",
     "text": [
      "Informe o valor: \n"
     ]
    },
    {
     "name": "stdin",
     "output_type": "stream",
     "text": [
      " 10\n"
     ]
    },
    {
     "name": "stdout",
     "output_type": "stream",
     "text": [
      "<class 'str'>\n"
     ]
    }
   ],
   "source": [
    "#entada de dados\n",
    "print(\"Informe o valor: \")\n",
    "i = input()\n",
    "#mostra tipo string\n",
    "print(type(i))"
   ]
  },
  {
   "cell_type": "code",
   "execution_count": 8,
   "id": "4840c6df-274b-41e2-b33f-f7ab9ba6d56b",
   "metadata": {
    "tags": []
   },
   "outputs": [
    {
     "name": "stdout",
     "output_type": "stream",
     "text": [
      "Informe o valor: \n"
     ]
    },
    {
     "name": "stdin",
     "output_type": "stream",
     "text": [
      " 10\n",
      "Informe o valor:  12\n"
     ]
    },
    {
     "name": "stdout",
     "output_type": "stream",
     "text": [
      "12\n"
     ]
    }
   ],
   "source": [
    "#entrada de valor com msg separada e junta\n",
    "print(\"Informe o valor: \")\n",
    "i = input()\n",
    "# ou\n",
    "i = input(\"Informe o valor: \")\n",
    "print(i)"
   ]
  },
  {
   "cell_type": "code",
   "execution_count": 9,
   "id": "dd366640-fcc8-413e-a262-1ea71fc50b1f",
   "metadata": {
    "tags": []
   },
   "outputs": [
    {
     "name": "stdin",
     "output_type": "stream",
     "text": [
      "Informe o valor:  11\n"
     ]
    },
    {
     "name": "stdout",
     "output_type": "stream",
     "text": [
      "<class 'str'>\n",
      "<class 'int'>\n"
     ]
    }
   ],
   "source": [
    "#conversão de valores\n",
    "#para inteiro\n",
    "var = input(\"Informe o valor: \")\n",
    "print(type(var))\n",
    "var = int(var)\n",
    "print(type(var))"
   ]
  },
  {
   "cell_type": "code",
   "execution_count": 10,
   "id": "8c0b7b89-da29-4d23-b0bc-2690bbe67ed5",
   "metadata": {
    "tags": []
   },
   "outputs": [
    {
     "name": "stdin",
     "output_type": "stream",
     "text": [
      "Informe o valor:  2.5\n"
     ]
    },
    {
     "name": "stdout",
     "output_type": "stream",
     "text": [
      "<class 'str'>\n",
      "<class 'float'>\n"
     ]
    }
   ],
   "source": [
    "#para float\n",
    "var = input(\"Informe o valor: \")\n",
    "print(type(var))\n",
    "var = float(var)\n",
    "print(type(var))"
   ]
  },
  {
   "cell_type": "code",
   "execution_count": 11,
   "id": "5d5fcea9-cf4f-4bae-8165-55d8fea83617",
   "metadata": {
    "tags": []
   },
   "outputs": [
    {
     "name": "stdout",
     "output_type": "stream",
     "text": [
      "10\n"
     ]
    }
   ],
   "source": [
    "#comentários\n",
    "'''\n",
    "Aqui temos um comentário\n",
    "de bloco com várias\n",
    "linhas comentadas\n",
    "'''\n",
    "# aqui temos um comentários de linha\n",
    "x = 10\n",
    "print(x) # aqui temos um outro comentários de linha"
   ]
  },
  {
   "cell_type": "code",
   "execution_count": 12,
   "id": "5c2ef516-4365-46fd-a52b-9dfc3c10b4b0",
   "metadata": {
    "tags": []
   },
   "outputs": [
    {
     "ename": "SyntaxError",
     "evalue": "invalid syntax (273144934.py, line 1)",
     "output_type": "error",
     "traceback": [
      "\u001b[0;36m  Cell \u001b[0;32mIn[12], line 1\u001b[0;36m\u001b[0m\n\u001b[0;31m    import numpy is np\u001b[0m\n\u001b[0m                 ^\u001b[0m\n\u001b[0;31mSyntaxError\u001b[0m\u001b[0;31m:\u001b[0m invalid syntax\n"
     ]
    }
   ],
   "source": []
  },
  {
   "cell_type": "code",
   "execution_count": null,
   "id": "b2efd39b-9bca-4bb5-8dde-7c2089ac9c0e",
   "metadata": {},
   "outputs": [],
   "source": []
  }
 ],
 "metadata": {
  "kernelspec": {
   "display_name": "Python 3 (ipykernel)",
   "language": "python",
   "name": "python3"
  },
  "language_info": {
   "codemirror_mode": {
    "name": "ipython",
    "version": 3
   },
   "file_extension": ".py",
   "mimetype": "text/x-python",
   "name": "python",
   "nbconvert_exporter": "python",
   "pygments_lexer": "ipython3",
   "version": "3.11.5"
  }
 },
 "nbformat": 4,
 "nbformat_minor": 5
}
